{
 "cells": [
  {
   "cell_type": "markdown",
   "id": "ac60deeb-0d75-478e-823a-dfe39e73aa72",
   "metadata": {},
   "source": [
    "欢迎使用luo实验室"
   ]
  },
  {
   "cell_type": "code",
   "execution_count": 1,
   "id": "785fea13-bdfb-4bc6-80e7-1c53d8ca2f84",
   "metadata": {},
   "outputs": [
    {
     "data": {
      "text/plain": [
       "true"
      ]
     },
     "execution_count": 1,
     "metadata": {},
     "output_type": "execute_result"
    }
   ],
   "source": [
    "# 初始化运行环境\n",
    "require_relative \"init\""
   ]
  },
  {
   "cell_type": "code",
   "execution_count": 6,
   "id": "87d49a44-a485-4331-b982-6a9143490771",
   "metadata": {
    "tags": []
   },
   "outputs": [
    {
     "data": {
      "text/plain": [
       "Luo::XinghuoFinalAgent"
      ]
     },
     "execution_count": 6,
     "metadata": {},
     "output_type": "execute_result"
    }
   ],
   "source": [
    "class Runner < XinghuoAgentRunner\n",
    "  register WeatherAgent\n",
    "  register TimeAgent\n",
    "  register XinghuoFinalAgent\n",
    "end"
   ]
  },
  {
   "cell_type": "code",
   "execution_count": null,
   "id": "3b2b57cf-332e-4f4e-8b54-ee35950a0501",
   "metadata": {},
   "outputs": [],
   "source": []
  }
 ],
 "metadata": {
  "kernelspec": {
   "display_name": "Ruby 3.2.1",
   "language": "ruby",
   "name": "ruby"
  },
  "language_info": {
   "file_extension": ".rb",
   "mimetype": "application/x-ruby",
   "name": "ruby",
   "version": "3.2.1"
  }
 },
 "nbformat": 4,
 "nbformat_minor": 5
}
